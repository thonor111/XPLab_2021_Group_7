{
 "cells": [
  {
   "cell_type": "code",
   "execution_count": 80,
   "id": "34a0d89c",
   "metadata": {},
   "outputs": [],
   "source": [
    "import pandas as pd \n",
    "import numpy as np"
   ]
  },
  {
   "cell_type": "code",
   "execution_count": 81,
   "id": "5f2bd962",
   "metadata": {
    "scrolled": true
   },
   "outputs": [],
   "source": [
    "df  = pd.read_csv(\"raw_data.csv\")\n",
    "cleandf = pd.DataFrame(columns=['expNumber','age','gender','ingroupNorm','bothShown','ingroupFirst','response','rating',\n",
    "                                'understandingCheckResponse','understandingCheckOrder','responseTime','understandingCheckTime',\n",
    "                                'elapsedTime','utcTime','RepublicanRating','DemocraticRating','topIssue','topIssueRating',\n",
    "                                 'identityIngroupResponse','identityOutgroupResponse','ingroupAgree','outgroupDisagree'])\n",
    "# In the dataset, every participant has 7 lines of data\n",
    "firstlndf = df.iloc[0::7, :].reset_index() # first one has topIssue\n",
    "secondlndf = df.iloc[1::7, :].reset_index() # second one has topIssueRating\n",
    "thirdlndf = df.iloc[2::7, :].reset_index() # third one has response\n",
    "fourthlndf = df.iloc[3::7, :].reset_index() # fourth one has rating\n",
    "fifthlndf = df.iloc[4::7, :].reset_index() # fifth one has understandingCheckResponse\n",
    "sixthlndf = df.iloc[5::7, :].reset_index() # sixth one has identityIngroupResponse\n",
    "seventhlndf = df.iloc[6::7, :].reset_index() # seventh one has identityOutgroupResponse\n",
    "\n",
    "fifthlndf['response'] = fifthlndf['response'].replace({'Participants chose which action they preferred':1,\n",
    "                                          'Due to a computer error, participants were not allocated equally to imagine performing the different actions':2,\n",
    "                                          'No data was saved during the experiment.':3,\n",
    "                                          'The participants completed the experiment with their eyes closed.':4})\n",
    "\n",
    "\n",
    "cleandf['age'] = firstlndf['age']\n",
    "cleandf['expNum'] = 'Exp 1'\n",
    "cleandf['gender'] = firstlndf['gender']\n",
    "cleandf['ingroupNorm'] = firstlndf['ingroup_descriptive_norm']\n",
    "cleandf['ingroupNorm'] = np.where((cleandf['ingroupNorm']) == -1, 0 , cleandf['ingroupNorm'])\n",
    "cleandf['bothShown'] = firstlndf['both_norms_shown']\n",
    "cleandf['ingroupFirst'] = 0\n",
    "cleandf['response'] =  pd.to_numeric(thirdlndf['response'])\n",
    "cleandf['rating'] = fourthlndf['response']\n",
    "cleandf['understandingCheckResponse'] = fifthlndf['response']\n",
    "cleandf['understandingCheckOrder'] = 1234\n",
    "cleandf['responseTime'] = firstlndf['timeSpent'].mean()  / 7\n",
    "cleandf['understandingCheckTime']  = firstlndf['timeSpent'].mean()  / 7\n",
    "cleandf['elapsedTime']  = firstlndf['timeSpent'].mean() / 7\n",
    "cleandf['utcTime'] = firstlndf['startDate']\n",
    "cleandf['topIssue'] = firstlndf['response']\n",
    "cleandf['topIssueRating'] = pd.to_numeric(secondlndf['response']) + 5\n",
    "cleandf['identityIngroupResponse'] = pd.to_numeric(sixthlndf['response'])\n",
    "cleandf['identityOutgroupResponse'] = pd.to_numeric(seventhlndf['response'])\n",
    "cleandf['response'] += 4\n",
    "cleandf['identityIngroupResponse'] += 4\n",
    "cleandf['identityOutgroupResponse'] += 4\n",
    "\n",
    "# add ingroup agree in binary value, 1 if >= 5, else 0\n",
    "\n",
    "cleandf['ingroupAgree'] = np.where((cleandf['identityIngroupResponse'] >= 5), 1,cleandf['ingroupAgree'])\n",
    "cleandf['ingroupAgree'] = np.where((cleandf['identityIngroupResponse'] < 5), 0,cleandf['ingroupAgree'])\n",
    "\n",
    "\n",
    "\n",
    "# add outgroup disagree in binary value, 1 if >= 5, else 0\n",
    "\n",
    "cleandf['outgroupDisagree'] = np.where((cleandf['identityOutgroupResponse'] < 4), 1,cleandf['outgroupDisagree'])\n",
    "cleandf['outgroupDisagree'] = np.where((cleandf['identityOutgroupResponse'] > 3), 0,cleandf['outgroupDisagree'])\n",
    "\n",
    "#fifthlndf\n",
    "cleandf\n",
    "cleandf.to_csv('clean_data.csv')"
   ]
  }
 ],
 "metadata": {
  "kernelspec": {
   "display_name": "Python 3 (ipykernel)",
   "language": "python",
   "name": "python3"
  },
  "language_info": {
   "codemirror_mode": {
    "name": "ipython",
    "version": 3
   },
   "file_extension": ".py",
   "mimetype": "text/x-python",
   "name": "python",
   "nbconvert_exporter": "python",
   "pygments_lexer": "ipython3",
   "version": "3.9.6"
  }
 },
 "nbformat": 4,
 "nbformat_minor": 5
}
