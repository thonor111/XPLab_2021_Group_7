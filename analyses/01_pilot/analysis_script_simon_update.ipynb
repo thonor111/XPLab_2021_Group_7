{
  "nbformat": 4,
  "nbformat_minor": 5,
  "metadata": {
    "kernelspec": {
      "display_name": "Python 3 (ipykernel)",
      "language": "python",
      "name": "python3"
    },
    "language_info": {
      "codemirror_mode": {
        "name": "ipython",
        "version": 3
      },
      "file_extension": ".py",
      "mimetype": "text/x-python",
      "name": "python",
      "nbconvert_exporter": "python",
      "pygments_lexer": "ipython3",
      "version": "3.9.6"
    },
    "colab": {
      "name": "analysis-script_simon_update.ipynb",
      "provenance": [],
      "collapsed_sections": []
    }
  },
  "cells": [
    {
      "cell_type": "code",
      "metadata": {
        "id": "3a58218d"
      },
      "source": [
        "import pandas as pd \n",
        "import numpy as np\n"
      ],
      "id": "3a58218d",
      "execution_count": 1,
      "outputs": []
    },
    {
      "cell_type": "code",
      "metadata": {
        "id": "1edc8b55"
      },
      "source": [
        "# ANALYSIS\n",
        "pd.set_option('display.max_colwidth', None)\n",
        "# PREPROCESSING\n",
        "df  = pd.read_csv(\"results_259_Descriptive_norms-replication-XPLab-2021_group_7.csv\")\n"
      ],
      "id": "1edc8b55",
      "execution_count": 29,
      "outputs": []
    },
    {
      "cell_type": "code",
      "metadata": {
        "id": "dbhW3Szo2Dlr"
      },
      "source": [
        "responses = list(df['response'].iloc[1::7])\n",
        "ingroup_agree = list(df['response'].iloc[5::7])\n",
        "outgroup_disagree = list(df['response'].iloc[6::7])\n",
        "ingroup_descriptive_norm = list(df['ingroup_descriptive_norm'].iloc[1::7].astype(int))\n",
        "both_norms = list(df['both_norms_shown'].iloc[1::7].astype(int))\n"
      ],
      "id": "dbhW3Szo2Dlr",
      "execution_count": 30,
      "outputs": []
    },
    {
      "cell_type": "code",
      "metadata": {
        "id": "SBlCRI7wHdnw",
        "colab": {
          "base_uri": "https://localhost:8080/"
        },
        "outputId": "9a143d27-f74f-4a68-cc83-94806e82f15f"
      },
      "source": [
        "#df_split = df[df['submission_id'].str.contains('Participants chose which action they preferred')]\n",
        "#df_split = df_split['submission_id'].str.split('\\,')\n",
        "#df_split"
      ],
      "id": "SBlCRI7wHdnw",
      "execution_count": null,
      "outputs": [
        {
          "output_type": "execute_result",
          "data": {
            "text/plain": [
              "4      [2344, , 1990, , 1, 1627307498488, Participants chose which action they preferred, 259, , 1, Participants chose which action they preferred, \"Due to a computer error,  participants were not allocated equally to imagine performing the different actions\", No data was saved during the experiment., The participants completed the experiment with their eyes closed., NA, NA, NA, NA, NA, \"As mentioned before,  this study is a follow-up to a previous study. Given the information provided in the instructions,  which of the following statements about the previous study are true?\", No data was saved during the experiment., Mon Jul 26 2021 15:50:11 GMT+0200 (Mitteleuropäische Sommerzeit), 1627307411423, 1.4510833333333333, NA, attention_trial, 1]\n",
              "11    [2339, , 2502, 20, 1, 1627231365681, Participants chose which action they preferred, 259, male, 1, Participants chose which action they preferred, \"Due to a computer error,  participants were not allocated equally to imagine performing the different actions\", No data was saved during the experiment., The participants completed the experiment with their eyes closed., NA, NA, NA, NA, NA, \"As mentioned before,  this study is a follow-up to a previous study. Given the information provided in the instructions,  which of the following statements about the previous study are true?\", Participants chose which action they preferred, Sun Jul 25 2021 18:42:34 GMT+0200 (Mitteleuropäische Sommerzeit), 1627231354986, 0.17825, NA, attention_trial, 1]\n",
              "Name: submission_id, dtype: object"
            ]
          },
          "metadata": {
            "tags": []
          },
          "execution_count": 22
        }
      ]
    },
    {
      "cell_type": "code",
      "metadata": {
        "colab": {
          "base_uri": "https://localhost:8080/",
          "height": 112
        },
        "id": "oe51J1TaUkF2",
        "outputId": "86063bb8-1367-4982-9898-8bf2176d2237"
      },
      "source": [
        "frame = pd.DataFrame({'both_norms':both_norms,'ingroup_descriptive_norm':ingroup_descriptive_norm,'responses':responses,\n",
        "                       'ingroup_agree':ingroup_agree,'outgroup_disagree':outgroup_disagree})\n",
        "# both_norms: only ingroup norm shown -> 0\n",
        "#             | both norms shown -> 1\n",
        "# ingroup_descriptive norm: favoured calling the police -> -1 | leave him alone -> 1\n",
        "# ingroup_agree: -3 - 3 range, change to binary\n",
        "# outgroup_disagree: same \n",
        "\n",
        "frame"
      ],
      "id": "oe51J1TaUkF2",
      "execution_count": 33,
      "outputs": [
        {
          "output_type": "execute_result",
          "data": {
            "text/html": [
              "<div>\n",
              "<style scoped>\n",
              "    .dataframe tbody tr th:only-of-type {\n",
              "        vertical-align: middle;\n",
              "    }\n",
              "\n",
              "    .dataframe tbody tr th {\n",
              "        vertical-align: top;\n",
              "    }\n",
              "\n",
              "    .dataframe thead th {\n",
              "        text-align: right;\n",
              "    }\n",
              "</style>\n",
              "<table border=\"1\" class=\"dataframe\">\n",
              "  <thead>\n",
              "    <tr style=\"text-align: right;\">\n",
              "      <th></th>\n",
              "      <th>both_norms</th>\n",
              "      <th>ingroup_descriptive_norm</th>\n",
              "      <th>responses</th>\n",
              "      <th>ingroup_agree</th>\n",
              "      <th>outgroup_disagree</th>\n",
              "    </tr>\n",
              "  </thead>\n",
              "  <tbody>\n",
              "    <tr>\n",
              "      <th>0</th>\n",
              "      <td>1</td>\n",
              "      <td>1</td>\n",
              "      <td>0</td>\n",
              "      <td>3</td>\n",
              "      <td>-2</td>\n",
              "    </tr>\n",
              "    <tr>\n",
              "      <th>1</th>\n",
              "      <td>1</td>\n",
              "      <td>1</td>\n",
              "      <td>4</td>\n",
              "      <td>3</td>\n",
              "      <td>-3</td>\n",
              "    </tr>\n",
              "  </tbody>\n",
              "</table>\n",
              "</div>"
            ],
            "text/plain": [
              "   both_norms  ingroup_descriptive_norm  ... ingroup_agree outgroup_disagree\n",
              "0           1                         1  ...             3                -2\n",
              "1           1                         1  ...             3                -3\n",
              "\n",
              "[2 rows x 5 columns]"
            ]
          },
          "metadata": {
            "tags": []
          },
          "execution_count": 33
        }
      ]
    },
    {
      "cell_type": "code",
      "metadata": {
        "colab": {
          "base_uri": "https://localhost:8080/",
          "height": 112
        },
        "id": "u2hR5QzPaJgk",
        "outputId": "9f9b2382-2121-46b3-f9c0-76890c6c1dbd"
      },
      "source": [
        "# Adjust frame \n",
        "\n",
        "frame['ingroup_agree'].mask(frame['ingroup_agree'].astype(int) > 0, 1, inplace=True)\n",
        "frame['ingroup_agree'].mask(frame['ingroup_agree'].astype(int) <= 0, 0, inplace=True)\n",
        "\n",
        "frame['outgroup_disagree'].mask(frame['outgroup_disagree'].astype(int) > 0, 1, inplace=True)\n",
        "frame['outgroup_disagree'].mask(frame['outgroup_disagree'].astype(int) <= 0, 0, inplace=True)\n",
        "frame"
      ],
      "id": "u2hR5QzPaJgk",
      "execution_count": 34,
      "outputs": [
        {
          "output_type": "execute_result",
          "data": {
            "text/html": [
              "<div>\n",
              "<style scoped>\n",
              "    .dataframe tbody tr th:only-of-type {\n",
              "        vertical-align: middle;\n",
              "    }\n",
              "\n",
              "    .dataframe tbody tr th {\n",
              "        vertical-align: top;\n",
              "    }\n",
              "\n",
              "    .dataframe thead th {\n",
              "        text-align: right;\n",
              "    }\n",
              "</style>\n",
              "<table border=\"1\" class=\"dataframe\">\n",
              "  <thead>\n",
              "    <tr style=\"text-align: right;\">\n",
              "      <th></th>\n",
              "      <th>both_norms</th>\n",
              "      <th>ingroup_descriptive_norm</th>\n",
              "      <th>responses</th>\n",
              "      <th>ingroup_agree</th>\n",
              "      <th>outgroup_disagree</th>\n",
              "    </tr>\n",
              "  </thead>\n",
              "  <tbody>\n",
              "    <tr>\n",
              "      <th>0</th>\n",
              "      <td>1</td>\n",
              "      <td>1</td>\n",
              "      <td>0</td>\n",
              "      <td>1</td>\n",
              "      <td>0</td>\n",
              "    </tr>\n",
              "    <tr>\n",
              "      <th>1</th>\n",
              "      <td>1</td>\n",
              "      <td>1</td>\n",
              "      <td>4</td>\n",
              "      <td>1</td>\n",
              "      <td>0</td>\n",
              "    </tr>\n",
              "  </tbody>\n",
              "</table>\n",
              "</div>"
            ],
            "text/plain": [
              "   both_norms  ingroup_descriptive_norm  ... ingroup_agree outgroup_disagree\n",
              "0           1                         1  ...             1                 0\n",
              "1           1                         1  ...             1                 0\n",
              "\n",
              "[2 rows x 5 columns]"
            ]
          },
          "metadata": {
            "tags": []
          },
          "execution_count": 34
        }
      ]
    },
    {
      "cell_type": "code",
      "metadata": {
        "id": "0wxgmtKLk_c5"
      },
      "source": [
        "\n",
        "def clip_pdf(pdf,value):\n",
        "  \n",
        "  filter_array = pdf > value\n",
        "  clipped_pdf = pdf[filter_array]\n",
        "  clipped_pdf = np.append(clipped_pdf,clipped_pdf)\n",
        "\n",
        "  if clipped_pdf.shape[0] < 10000:\n",
        "    ext = np.random.choice(clipped_pdf, 10000-clipped_pdf.shape[0])\n",
        "    clipped_pdf = np.append(clipped_pdf, ext)\n",
        "  elif clipped_pdf.shape[0] > 10000:\n",
        "    while clipped_pdf.shape[0] > 10000:\n",
        "      index = np.random.randint(0,len(clipped_pdf))\n",
        "      clipped_pdf = np.delete(clipped_pdf,index) \n",
        "\n",
        "  return clipped_pdf\n"
      ],
      "id": "0wxgmtKLk_c5",
      "execution_count": 182,
      "outputs": []
    },
    {
      "cell_type": "code",
      "metadata": {
        "id": "6vs5BPE9ginq"
      },
      "source": [
        "import numpy as np\n",
        "from scipy.stats import norm\n",
        "import matplotlib.pyplot as plt\n",
        "\n",
        "# Create priors\n",
        "\n",
        "# Clip to 0 (both)\n",
        "b_in_scm = norm.rvs(0.816, 0.5, size=10000)\n",
        "b_in_alt = norm.rvs(0.816, 0.5, size=10000)\n",
        "\n",
        "# Clip to 0\n",
        "b_out_scm = norm.rvs(0, 0.5, size=10000)\n",
        "# OK\n",
        "b_out_alt = b_in_alt * -(0.85/0.6)\n",
        "\n",
        "#  OK \n",
        "b_both_smc = norm.rvs(0, 0.5, size=10000)\n",
        "b_both_alt = norm.rvs(0, 0.5, size=10000)\n"
      ],
      "id": "6vs5BPE9ginq",
      "execution_count": 189,
      "outputs": []
    },
    {
      "cell_type": "code",
      "metadata": {
        "id": "ykKDP_dAoJvX"
      },
      "source": [
        "b_in_scm = clip_pdf(b_in_scm,0)\n",
        "b_in_alt = clip_pdf(b_in_alt,0)\n",
        "b_both_smc = clip_pdf(b_both_smc,0)"
      ],
      "id": "ykKDP_dAoJvX",
      "execution_count": 190,
      "outputs": []
    },
    {
      "cell_type": "code",
      "metadata": {
        "colab": {
          "base_uri": "https://localhost:8080/",
          "height": 387
        },
        "id": "CShVhrPhv3Kw",
        "outputId": "2a46347c-6d89-4ee0-9033-5f5f6e76a56c"
      },
      "source": [
        "sns.displot(b_both_smc)"
      ],
      "id": "CShVhrPhv3Kw",
      "execution_count": 193,
      "outputs": [
        {
          "output_type": "execute_result",
          "data": {
            "text/plain": [
              "<seaborn.axisgrid.FacetGrid at 0x7fe33de4c390>"
            ]
          },
          "metadata": {
            "tags": []
          },
          "execution_count": 193
        },
        {
          "output_type": "display_data",
          "data": {
            "image/png": "[encoded data removed]",
            "text/plain": [
              "<Figure size 360x360 with 1 Axes>"
            ]
          },
          "metadata": {
            "tags": [],
            "needs_background": "light"
          }
        }
      ]
    },
    {
      "cell_type": "code",
      "metadata": {
        "id": "00VoL6aywUFI"
      },
      "source": [
        "# Instantiate Ordinal Log Model "
      ],
      "id": "00VoL6aywUFI",
      "execution_count": null,
      "outputs": []
    },
    {
      "cell_type": "code",
      "metadata": {
        "colab": {
          "base_uri": "https://localhost:8080/",
          "height": 281
        },
        "id": "Bo0c-JbcubuP",
        "outputId": "8cbc7750-b2e5-4db7-864b-1e804c8598da"
      },
      "source": [
        "# Generate some data for this demonstration.\n",
        "data = norm.rvs(0.816, 0.5, size=5000)\n",
        "\n",
        "# Fit a normal distribution to the data:\n",
        "mu, std = norm.fit(data)\n",
        "\n",
        "# Plot the histogram.\n",
        "plt.hist(data, bins=25, density=True, alpha=0.6, color='g')\n",
        "\n",
        "# Plot the PDF.\n",
        "xmin, xmax = plt.xlim()\n",
        "x = np.linspace(xmin, xmax, 100)\n",
        "p = norm.pdf(x, mu, std)\n",
        "plt.plot(x, p, 'k', linewidth=2)\n",
        "title = \"Fit results: mu = %.2f,  std = %.2f\" % (mu, std)\n",
        "plt.title(title)\n",
        "\n",
        "plt.show()"
      ],
      "id": "Bo0c-JbcubuP",
      "execution_count": 185,
      "outputs": [
        {
          "output_type": "display_data",
          "data": {
            "image/png": "[encoded data removed]",
            "text/plain": [
              "<Figure size 432x288 with 1 Axes>"
            ]
          },
          "metadata": {
            "tags": [],
            "needs_background": "light"
          }
        }
      ]
    }
  ]
}