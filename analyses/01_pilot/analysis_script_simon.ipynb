{
  "nbformat": 4,
  "nbformat_minor": 5,
  "metadata": {
    "kernelspec": {
      "display_name": "Python 3 (ipykernel)",
      "language": "python",
      "name": "python3"
    },
    "language_info": {
      "codemirror_mode": {
        "name": "ipython",
        "version": 3
      },
      "file_extension": ".py",
      "mimetype": "text/x-python",
      "name": "python",
      "nbconvert_exporter": "python",
      "pygments_lexer": "ipython3",
      "version": "3.9.6"
    },
    "colab": {
      "name": "analysis-script_simon.ipynb",
      "provenance": []
    }
  },
  "cells": [
    {
      "cell_type": "code",
      "metadata": {
        "id": "3a58218d"
      },
      "source": [
        "import pandas as pd \n",
        "import numpy as np\n"
      ],
      "id": "3a58218d",
      "execution_count": 2,
      "outputs": []
    },
    {
      "cell_type": "code",
      "metadata": {
        "colab": {
          "base_uri": "https://localhost:8080/",
          "height": 32
        },
        "id": "4d09c7e2",
        "outputId": "53493d48-25f8-4680-9b67-ef1ece62fbd0"
      },
      "source": [
        "# PREPROCESSING\n",
        "df  = pd.read_csv(\"results_259_Descriptive_norms-replication-XPLab-2021_group_7.csv\")\n",
        "\n",
        "# search all participants with valid responses and save their id\n",
        "# vdf = valid dataframe, dataframe of valid participants\n",
        "vdf = df.loc[df['response'] == 'Participants chose which action they preferred']\n",
        "vdf = vdf[['submission_id']]\n",
        "\n",
        "# vidf = valid identity dataframe; dataframe only with ID's of valid participants\n",
        "vidf = pd.DataFrame()\n",
        "for n in vdf['submission_id']:\n",
        "    vidf = vidf.append(df.loc[df['submission_id'] == n])\n",
        "    \n",
        "# sdf = shortened dataframe\n",
        "# every participants has 7 rows, the response value is in the third, so starting from the third row, get only every seventh\n",
        "sdf = vidf.iloc[3::7, :]\n",
        "sdf\n",
        "\n",
        "# dataframe with only analytically important values\n",
        "#newdf = sdf[['both_norms_shown','ingroup_descriptive_norm','response']]\n",
        "#print(newdf)"
      ],
      "id": "4d09c7e2",
      "execution_count": 88,
      "outputs": [
        {
          "output_type": "execute_result",
          "data": {
            "text/html": [
              "<div>\n",
              "<style scoped>\n",
              "    .dataframe tbody tr th:only-of-type {\n",
              "        vertical-align: middle;\n",
              "    }\n",
              "\n",
              "    .dataframe tbody tr th {\n",
              "        vertical-align: top;\n",
              "    }\n",
              "\n",
              "    .dataframe thead th {\n",
              "        text-align: right;\n",
              "    }\n",
              "</style>\n",
              "<table border=\"1\" class=\"dataframe\">\n",
              "  <thead>\n",
              "    <tr style=\"text-align: right;\">\n",
              "      <th></th>\n",
              "    </tr>\n",
              "  </thead>\n",
              "  <tbody>\n",
              "  </tbody>\n",
              "</table>\n",
              "</div>"
            ],
            "text/plain": [
              "Empty DataFrame\n",
              "Columns: []\n",
              "Index: []"
            ]
          },
          "metadata": {
            "tags": []
          },
          "execution_count": 88
        }
      ]
    },
    {
      "cell_type": "code",
      "metadata": {
        "id": "1edc8b55"
      },
      "source": [
        "# ANALYSIS\n",
        "pd.set_option('display.max_colwidth', None)\n",
        "# PREPROCESSING\n",
        "df  = pd.read_csv(\"results_259_Descriptive_norms-replication-XPLab-2021_group_7.csv\")\n",
        "df"
      ],
      "id": "1edc8b55",
      "execution_count": null,
      "outputs": []
    },
    {
      "cell_type": "code",
      "metadata": {
        "id": "SBlCRI7wHdnw"
      },
      "source": [
        "df = df[df['submission_id'].str.contains('Participants chose which action they preferred')]\n",
        "df = df['submission_id'].str.split('\\,')\n",
        "df"
      ],
      "id": "SBlCRI7wHdnw",
      "execution_count": null,
      "outputs": []
    },
    {
      "cell_type": "code",
      "metadata": {
        "id": "fZcY22XLE4Ex"
      },
      "source": [
        "ingroup_descriptive_norm = []\n",
        "both_norms = []\n",
        "responses = []\n",
        "\n",
        "for series in df:\n",
        "  both_norms.append(series[4])\n",
        "  ingroup_descriptive_norm.append(series[9])\n",
        "  responses.append(series[29])\n",
        "\n",
        "\n",
        "ingroup_agree = list(df['response'].iloc[5::7])\n",
        "outgroup_disagree = list(df['response'].iloc[6::7])\n",
        "  "
      ],
      "id": "fZcY22XLE4Ex",
      "execution_count": 83,
      "outputs": []
    },
    {
      "cell_type": "code",
      "metadata": {
        "colab": {
          "base_uri": "https://localhost:8080/",
          "height": 112
        },
        "id": "oe51J1TaUkF2",
        "outputId": "5bf4f740-2927-4545-d37e-474d49c3c830"
      },
      "source": [
        "frame = pd.DataFrame({'both_norms':both_norms,'ingroup_descriptive_norm':ingroup_descriptive_norm,'responses':responses,\n",
        "                       'ingroup_agree':ingroup_agree,'outgroup_disagree':outgroup_disagree})\n",
        "\n",
        "frame"
      ],
      "id": "oe51J1TaUkF2",
      "execution_count": 120,
      "outputs": [
        {
          "output_type": "execute_result",
          "data": {
            "text/html": [
              "<div>\n",
              "<style scoped>\n",
              "    .dataframe tbody tr th:only-of-type {\n",
              "        vertical-align: middle;\n",
              "    }\n",
              "\n",
              "    .dataframe tbody tr th {\n",
              "        vertical-align: top;\n",
              "    }\n",
              "\n",
              "    .dataframe thead th {\n",
              "        text-align: right;\n",
              "    }\n",
              "</style>\n",
              "<table border=\"1\" class=\"dataframe\">\n",
              "  <thead>\n",
              "    <tr style=\"text-align: right;\">\n",
              "      <th></th>\n",
              "      <th>both_norms</th>\n",
              "      <th>ingroup_descriptive_norm</th>\n",
              "      <th>responses</th>\n",
              "      <th>ingroup_agree</th>\n",
              "      <th>outgroup_disagree</th>\n",
              "    </tr>\n",
              "  </thead>\n",
              "  <tbody>\n",
              "    <tr>\n",
              "      <th>0</th>\n",
              "      <td>1</td>\n",
              "      <td>1</td>\n",
              "      <td>1</td>\n",
              "      <td>3</td>\n",
              "      <td>-2</td>\n",
              "    </tr>\n",
              "    <tr>\n",
              "      <th>1</th>\n",
              "      <td>1</td>\n",
              "      <td>1</td>\n",
              "      <td>1</td>\n",
              "      <td>3</td>\n",
              "      <td>-3</td>\n",
              "    </tr>\n",
              "  </tbody>\n",
              "</table>\n",
              "</div>"
            ],
            "text/plain": [
              "  both_norms ingroup_descriptive_norm responses ingroup_agree outgroup_disagree\n",
              "0          1                        1         1             3                -2\n",
              "1          1                        1         1             3                -3"
            ]
          },
          "metadata": {
            "tags": []
          },
          "execution_count": 120
        }
      ]
    }
  ]
}