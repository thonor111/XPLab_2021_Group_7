{
 "cells": [
  {
   "cell_type": "code",
   "execution_count": 1,
   "id": "3a58218d",
   "metadata": {},
   "outputs": [],
   "source": [
    "import pandas as pd \n",
    "import numpy as np\n"
   ]
  },
  {
   "cell_type": "code",
   "execution_count": 2,
   "id": "4d09c7e2",
   "metadata": {},
   "outputs": [
    {
     "name": "stdout",
     "output_type": "stream",
     "text": [
      "    both_norms_shown  ingroup_descriptive_norm response\n",
      "10                 1                         1        3\n"
     ]
    }
   ],
   "source": [
    "# PREPROCESSING\n",
    "df  = pd.read_csv(\"results_259_Descriptive_norms-replication-XPLab-2021_group_7.csv\")\n",
    "\n",
    "# search all participants with valid responses and save their id\n",
    "# vdf = valid dataframe, dataframe of valid participants\n",
    "vdf = df.loc[df['response'] == 'Participants chose which action they preferred']\n",
    "vdf = vdf[['submission_id']]\n",
    "\n",
    "# vidf = valid identity dataframe; dataframe only with ID's of valid participants\n",
    "vidf = pd.DataFrame()\n",
    "for n in vdf['submission_id']:\n",
    "    vidf = vidf.append(df.loc[df['submission_id'] == n])\n",
    "    \n",
    "# sdf = shortened dataframe\n",
    "# every participants has 7 rows, the response value is in the third, so starting from the third row, get only every seventh\n",
    "sdf = vidf.iloc[3::7, :]\n",
    "\n",
    "# dataframe with only analytically important values\n",
    "newdf = sdf[['both_norms_shown','ingroup_descriptive_norm','response']]\n",
    "print(newdf)"
   ]
  },
  {
   "cell_type": "code",
   "execution_count": null,
   "id": "1edc8b55",
   "metadata": {},
   "outputs": [],
   "source": [
    "# ANALYSIS"
   ]
  }
 ],
 "metadata": {
  "kernelspec": {
   "display_name": "Python 3 (ipykernel)",
   "language": "python",
   "name": "python3"
  },
  "language_info": {
   "codemirror_mode": {
    "name": "ipython",
    "version": 3
   },
   "file_extension": ".py",
   "mimetype": "text/x-python",
   "name": "python",
   "nbconvert_exporter": "python",
   "pygments_lexer": "ipython3",
   "version": "3.9.6"
  }
 },
 "nbformat": 4,
 "nbformat_minor": 5
}
