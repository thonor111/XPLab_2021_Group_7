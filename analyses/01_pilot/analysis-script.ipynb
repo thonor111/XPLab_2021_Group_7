{
 "cells": [
  {
   "cell_type": "code",
   "execution_count": 2,
   "id": "3a58218d",
   "metadata": {},
   "outputs": [
    {
     "name": "stderr",
     "output_type": "stream",
     "text": [
      "WARNING (theano.configdefaults): g++ not available, if using conda: `conda install m2w64-toolchain`\n",
      "WARNING (theano.configdefaults): g++ not detected ! Theano will be unable to execute optimized C-implementations (for both CPU and GPU) and will default to Python implementations. Performance will be severely degraded. To remove this warning, set Theano flags cxx to an empty string.\n",
      "WARNING (theano.tensor.blas): Using NumPy C-API based implementation for BLAS functions.\n"
     ]
    }
   ],
   "source": [
    "import pandas as pd \n",
    "import numpy as np\n",
    "import pymc3 as pm\n",
    "from __future__ import print_function\n",
    "from sklearn import metrics\n",
    "from scipy import linalg, optimize, sparse\n",
    "from sklearn.metrics import confusion_matrix, accuracy_score\n",
    "import warnings\n",
    "warnings.filterwarnings('ignore')"
   ]
  },
  {
   "cell_type": "code",
   "execution_count": 3,
   "id": "4d09c7e2",
   "metadata": {},
   "outputs": [
    {
     "name": "stdout",
     "output_type": "stream",
     "text": [
      "    both_norms_shown  ingroup_descriptive_norm response  \\\n",
      "10                 1                         1        3   \n",
      "\n",
      "    outgroup_descriptive_norm  ingroup_agree  outgroup_disagree  \n",
      "10                         -1              0                  0  \n"
     ]
    }
   ],
   "source": [
    "# PREPROCESSING\n",
    "df  = pd.read_csv(\"results_259_Descriptive_norms-replication-XPLab-2021_group_7.csv\")\n",
    "\n",
    "# search all participants with valid responses and save their id\n",
    "# vdf = valid dataframe, dataframe of valid participants\n",
    "vdf = df.loc[df['response'] == 'Participants chose which action they preferred']\n",
    "vdf = vdf[['submission_id']]\n",
    "\n",
    "# vidf = valid identity dataframe; dataframe only with ID's of valid participants\n",
    "vidf = pd.DataFrame()\n",
    "for n in vdf['submission_id']:\n",
    "    vidf = vidf.append(df.loc[df['submission_id'] == n])\n",
    "    \n",
    "# sdf = shortened dataframe\n",
    "# every participants has 7 rows, the response value is in the third, so starting from the third row, get only every seventh\n",
    "sdf = vidf.iloc[3::7, :]\n",
    "\n",
    "# dataframe for ingroup agree\n",
    "iadf = vidf.iloc[5::7, :]\n",
    "#iadf = iadf['response']\n",
    "\n",
    "# dataframe for outgroup disagree\n",
    "oddf = vidf.iloc[6::7, :]\n",
    "#oddf = oddf['response']\n",
    "\n",
    "# dataframe with only analytically important values\n",
    "newdf = sdf[['both_norms_shown','ingroup_descriptive_norm','response']]\n",
    "newdf['outgroup_descriptive_norm'] = newdf['ingroup_descriptive_norm'] * -1\n",
    "\n",
    "# add ingroup agree in binary value, 1 if >= 5, else 0\n",
    "newdf['ingroup_agree'] = iadf['response'].values\n",
    "newdf['ingroup_agree'] = pd.to_numeric(newdf['ingroup_agree'])\n",
    "newdf['ingroup_agree'] = np.where((newdf['ingroup_agree'] >= 5), 1,newdf['ingroup_agree'])\n",
    "newdf['ingroup_agree'] = np.where((newdf['ingroup_agree'] < 5), 0,newdf['ingroup_agree'])\n",
    "\n",
    "# add outgroup disagree in binary value, 1 if >= 5, else 0\n",
    "newdf['outgroup_disagree'] = oddf['response'].values\n",
    "newdf['outgroup_disagree'] = pd.to_numeric(newdf['outgroup_disagree'])\n",
    "newdf['outgroup_disagree'] = np.where((newdf['outgroup_disagree'] <= 3), 1,newdf['outgroup_disagree'])\n",
    "newdf['outgroup_disagree'] = np.where((newdf['outgroup_disagree'] > 0), 0,newdf['outgroup_disagree'])\n",
    "print(newdf)"
   ]
  },
  {
   "cell_type": "code",
   "execution_count": 4,
   "id": "e29c750e",
   "metadata": {},
   "outputs": [
    {
     "name": "stdout",
     "output_type": "stream",
     "text": [
      "    both_norms_shown  ingroup_descriptive_norm response  \\\n",
      "10                 1                         1        3   \n",
      "\n",
      "    outgroup_descriptive_norm  ingroup_agree  outgroup_disagree  \\\n",
      "10                         -1              0                  0   \n",
      "\n",
      "    odds_of_responding_higher  \n",
      "10                          1  \n",
      "    both_norms_shown  ingroup_descriptive_norm response  \\\n",
      "10                 1                         1        3   \n",
      "\n",
      "    outgroup_descriptive_norm  ingroup_agree  outgroup_disagree  \\\n",
      "10                         -1              0                  0   \n",
      "\n",
      "    odds_of_responding_higher  odds  \n",
      "10                          1     1  \n"
     ]
    }
   ],
   "source": [
    "# ANALYSIS\n",
    "\n",
    "# odds of responding higher\n",
    "#𝑙𝑜𝑔𝑒(odds of responding higher)=𝑏𝑖𝑛𝐼+𝑏𝑏𝑜𝑡ℎ𝐵+𝑏𝑜𝑢𝑡𝐼×𝐵\n",
    "#Here, I represents the INGROUP NORM condition (and the corresponding direction of the outgroup norm),\n",
    "#B represents BOTH NORMS SHOWN and I x B represents the OUTGROUP NORM, \n",
    "#while bin, bboth and bout are parameters representing the effects of changing these conditions.\n",
    "# PRIORS MISSING!\n",
    "newdf['odds_of_responding_higher'] = newdf['ingroup_descriptive_norm'] + newdf['both_norms_shown'] + newdf['outgroup_descriptive_norm'] * newdf['both_norms_shown']\n",
    "print(newdf)\n",
    "\n",
    "# 𝑙𝑜𝑔𝑒(odds)=𝑏𝑖𝑛𝐼×INGROUP AGREE+𝑏𝑏𝑜𝑡ℎ𝐵+𝑏𝑜𝑢𝑡𝐼×𝐵×OUTGROUP DISAGREE     \n",
    "# PRIORS MISSING!\n",
    "newdf['odds'] = newdf['ingroup_agree'] * newdf['ingroup_descriptive_norm'] + newdf['both_norms_shown'] + newdf['outgroup_descriptive_norm'] * newdf['both_norms_shown'] * newdf['outgroup_disagree']\n",
    "print(newdf)"
   ]
  },
  {
   "cell_type": "code",
   "execution_count": 5,
   "id": "183e67cc",
   "metadata": {},
   "outputs": [],
   "source": [
    "newdf.to_csv('processed_data.csv')"
   ]
  },
  {
   "cell_type": "code",
   "execution_count": null,
   "id": "36bef6f4",
   "metadata": {},
   "outputs": [],
   "source": []
  },
  {
   "cell_type": "code",
   "execution_count": null,
   "id": "a864b043",
   "metadata": {},
   "outputs": [],
   "source": []
  }
 ],
 "metadata": {
  "kernelspec": {
   "display_name": "Python 3 (ipykernel)",
   "language": "python",
   "name": "python3"
  },
  "language_info": {
   "codemirror_mode": {
    "name": "ipython",
    "version": 3
   },
   "file_extension": ".py",
   "mimetype": "text/x-python",
   "name": "python",
   "nbconvert_exporter": "python",
   "pygments_lexer": "ipython3",
   "version": "3.9.6"
  }
 },
 "nbformat": 4,
 "nbformat_minor": 5
}
